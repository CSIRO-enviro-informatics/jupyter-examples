{
 "cells": [
  {
   "cell_type": "code",
   "execution_count": 14,
   "metadata": {},
   "outputs": [],
   "source": [
    "import ipywidgets\n",
    "from ipywidgets import Label, Layout\n",
    "import IPython"
   ]
  },
  {
   "cell_type": "code",
   "execution_count": 12,
   "metadata": {
    "collapsed": true
   },
   "outputs": [],
   "source": [
    "class FilteringWidget:\n",
    "    \n",
    "    def __init__(self, dataframe, columns_of_interest):\n",
    "        self.dataframe = dataframe\n",
    "        self.columns_of_interest = columns_of_interest \n",
    "        self.orig_df = self.dataframe\n",
    "        self.hboxes = []\n",
    "        self.widget_column = {}\n",
    "        self.button = ipywidgets.Button(description=\"Reset\")\n",
    "        self.button.on_click(self.reset)\n",
    "        IPython.display.display(self.button)\n",
    "        self.build_widgets()\n",
    "    \n",
    "    def reset(self, change):   \n",
    "        self.dataframe = self.orig_df.copy()\n",
    "        self.build_widgets()\n",
    "    \n",
    "    def some_change(self, change):\n",
    "        if change['type'] == 'change' and change['name'] == 'value':\n",
    "            try:\n",
    "                self.dataframe = self.dataframe[self.dataframe[self.widget_column[change.owner]] == change['new'][0]]\n",
    "            except:\n",
    "                try:\n",
    "                    self.dataframe = self.dataframe[self.dataframe[self.widget_column[change.owner]] == int(change['new'][0])]\n",
    "                except:\n",
    "                    raise\n",
    "            self.build_widgets()\n",
    "\n",
    "\n",
    "    def build_widgets(self):\n",
    "        for hbox in self.hboxes:\n",
    "            hbox.close()\n",
    "        hboxes = []\n",
    "        for column in self.columns_of_interest:\n",
    "            uniques = self.dataframe[column].unique()\n",
    "            hbox = ipywidgets.HBox()\n",
    "            label = Label(\n",
    "                value=column + \" (\" + str(len(uniques)) + \")\",\n",
    "                layout=Layout(width='50%')\n",
    "                         )\n",
    "            a_widget = ipywidgets.SelectMultiple(\n",
    "                options=list(uniques),\n",
    "                rows=10,\n",
    "                disabled=False\n",
    "            )\n",
    "            self.widget_column[a_widget] = column\n",
    "            hbox.children = (label, a_widget)\n",
    "            a_widget.observe(self.some_change)\n",
    "            self.hboxes.append(hbox)\n",
    "            IPython.display.display(hbox)    \n"
   ]
  },
  {
   "cell_type": "code",
   "execution_count": null,
   "metadata": {
    "collapsed": true
   },
   "outputs": [],
   "source": []
  }
 ],
 "metadata": {
  "kernelspec": {
   "display_name": "Python 3",
   "language": "python",
   "name": "python3"
  },
  "language_info": {
   "codemirror_mode": {
    "name": "ipython",
    "version": 3
   },
   "file_extension": ".py",
   "mimetype": "text/x-python",
   "name": "python",
   "nbconvert_exporter": "python",
   "pygments_lexer": "ipython3",
   "version": "3.5.2"
  }
 },
 "nbformat": 4,
 "nbformat_minor": 2
}
