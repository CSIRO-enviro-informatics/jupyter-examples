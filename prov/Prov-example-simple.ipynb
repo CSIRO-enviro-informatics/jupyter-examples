{
 "cells": [
  {
   "cell_type": "markdown",
   "metadata": {},
   "source": [
    "# PROV-O Diagram Rendering Example"
   ]
  },
  {
   "cell_type": "markdown",
   "metadata": {},
   "source": [
    "This example takes a PROV-O activity graph and uses the [PROV Python library](https://pypi.python.org/pypi/prov), which is an implementation of the [Provenance Data Model](http://www.w3.org/TR/prov-dm/) by the World Wide Web Consortium, to create a graphical representations like PNG, SVG, PDF."
   ]
  },
  {
   "cell_type": "markdown",
   "metadata": {},
   "source": [
    "## Prerequisites"
   ]
  },
  {
   "cell_type": "markdown",
   "metadata": {},
   "source": [
    "## Read a simple provenance document"
   ]
  },
  {
   "cell_type": "markdown",
   "metadata": {},
   "source": [
    "We will use the Example 1 available on https://www.w3.org/TR/prov-o/ e.g. https://www.w3.org/TR/prov-o/#narrative-example-simple-1"
   ]
  },
  {
   "cell_type": "markdown",
   "metadata": {},
   "source": [
    "To create a provenance document (a package of provenance statements or assertions), import `ProvDocument` class from `prov.model`:"
   ]
  },
  {
   "cell_type": "code",
   "execution_count": 1,
   "metadata": {},
   "outputs": [],
   "source": [
    "from prov.model import ProvDocument\n",
    "import prov.model as pm"
   ]
  },
  {
   "cell_type": "markdown",
   "metadata": {},
   "source": [
    "Create some setup variables filename and basename which will be used for the encoding of the outputs\n"
   ]
  },
  {
   "cell_type": "code",
   "execution_count": 2,
   "metadata": {},
   "outputs": [],
   "source": [
    "filename = \"https://raw.githubusercontent.com/oznome/jupyter-examples/master/prov/rdf/prov-ex1.ttl\"\n",
    "basename = \"prov-ex1\"\n"
   ]
  },
  {
   "cell_type": "code",
   "execution_count": 3,
   "metadata": {},
   "outputs": [],
   "source": [
    "import urllib.request\n",
    "url = filename\n",
    "data = urllib.request.urlopen(url).read()"
   ]
  },
  {
   "cell_type": "markdown",
   "metadata": {},
   "source": [
    "Use the prov library to deserialize the example document"
   ]
  },
  {
   "cell_type": "code",
   "execution_count": 4,
   "metadata": {
    "scrolled": false
   },
   "outputs": [],
   "source": [
    "# Create a new provenance document\n",
    "d1 = pm.ProvDocument.deserialize(content=data, format=\"rdf\")"
   ]
  },
  {
   "cell_type": "markdown",
   "metadata": {},
   "source": [
    "## Graphics export (PNG and PDF)"
   ]
  },
  {
   "cell_type": "markdown",
   "metadata": {},
   "source": [
    "In addition to the PROV-N output (as above), the document can be exported into a graphical representation with the help of the [GraphViz](http://www.graphviz.org/). It is provided as a software package in popular Linux distributions, or can be [downloaded](http://www.graphviz.org/Download.php) for Windows and Mac.\n",
    "\n",
    "Once you have GraphViz installed and the `dot` command available in your operating system's paths, you can save the document we have so far into a PNG file as follows."
   ]
  },
  {
   "cell_type": "code",
   "execution_count": 5,
   "metadata": {},
   "outputs": [
    {
     "data": {
      "text/plain": [
       "'prov-ex1'"
      ]
     },
     "execution_count": 5,
     "metadata": {},
     "output_type": "execute_result"
    }
   ],
   "source": [
    "basename"
   ]
  },
  {
   "cell_type": "code",
   "execution_count": 6,
   "metadata": {},
   "outputs": [],
   "source": [
    "from prov.dot import prov_to_dot\n",
    "d = prov_to_dot(d1)"
   ]
  },
  {
   "cell_type": "code",
   "execution_count": null,
   "metadata": {},
   "outputs": [],
   "source": [
    "from IPython.display import Image, display\n",
    "\n",
    "def view_pydot(pdot):\n",
    "    plt = Image(pdot.create_png())\n",
    "    display(plt)"
   ]
  },
  {
   "cell_type": "code",
   "execution_count": null,
   "metadata": {},
   "outputs": [],
   "source": [
    "view_pydot(d)"
   ]
  },
  {
   "cell_type": "markdown",
   "metadata": {},
   "source": [
    "The above saves the PNG file as `article-prov.png` in your current folder. If you're runing this tutorial in Jupyter Notebook, you can see it here as well."
   ]
  },
  {
   "cell_type": "markdown",
   "metadata": {},
   "source": [
    "## PROV-JSON export"
   ]
  },
  {
   "cell_type": "markdown",
   "metadata": {},
   "source": [
    "[PROV-JSON](https://provenance.ecs.soton.ac.uk/prov-json/) is a JSON representation for PROV that was designed for the ease of accessing various PROV elements in a PROV document and to work well with web applications. The format is natively supported by the library and is its default serialisation format."
   ]
  },
  {
   "cell_type": "code",
   "execution_count": 10,
   "metadata": {},
   "outputs": [
    {
     "name": "stdout",
     "output_type": "stream",
     "text": [
      "{\n",
      "  \"prefix\": {\n",
      "    \"brick\": \"https://brickschema.org/schema/Brick#\",\n",
      "    \"csvw\": \"http://www.w3.org/ns/csvw#\",\n",
      "    \"dc\": \"http://purl.org/dc/elements/1.1/\",\n",
      "    \"dcat\": \"http://www.w3.org/ns/dcat#\",\n",
      "    \"dcmitype\": \"http://purl.org/dc/dcmitype/\",\n",
      "    \"dcterms\": \"http://purl.org/dc/terms/\",\n",
      "    \"dcam\": \"http://purl.org/dc/dcam/\",\n",
      "    \"doap\": \"http://usefulinc.com/ns/doap#\",\n",
      "    \"foaf\": \"http://xmlns.com/foaf/0.1/\",\n",
      "    \"odrl\": \"http://www.w3.org/ns/odrl/2/\",\n",
      "    \"org\": \"http://www.w3.org/ns/org#\",\n",
      "    \"owl\": \"http://www.w3.org/2002/07/owl#\",\n",
      "    \"prof\": \"http://www.w3.org/ns/dx/prof/\",\n",
      "    \"qb\": \"http://purl.org/linked-data/cube#\",\n",
      "    \"rdf\": \"http://www.w3.org/1999/02/22-rdf-syntax-ns#\",\n",
      "    \"rdfs\": \"http://www.w3.org/2000/01/rdf-schema#\",\n",
      "    \"schema\": \"https://schema.org/\",\n",
      "    \"sh\": \"http://www.w3.org/ns/shacl#\",\n",
      "    \"skos\": \"http://www.w3.org/2004/02/skos/core#\",\n",
      "    \"sosa\": \"http://www.w3.org/ns/sosa/\",\n",
      "    \"ssn\": \"http://www.w3.org/ns/ssn/\",\n",
      "    \"time\": \"http://www.w3.org/2006/time#\",\n",
      "    \"vann\": \"http://purl.org/vocab/vann/\",\n",
      "    \"void\": \"http://rdfs.org/ns/void#\",\n",
      "    \"xml\": \"http://www.w3.org/XML/1998/namespace\",\n",
      "    \"\": \"http://example.org#\",\n",
      "    \"ns1\": \"mailto:derek@\"\n",
      "  },\n",
      "  \"wasAttributedTo\": {\n",
      "    \"_:id1\": {\n",
      "      \"prov:entity\": \"bar_chart\",\n",
      "      \"prov:agent\": \"derek\"\n",
      "    },\n",
      "    \"_:id3\": {\n",
      "      \"prov:entity\": \"crimeData\",\n",
      "      \"prov:agent\": \"government\"\n",
      "    },\n",
      "    \"_:id6\": {\n",
      "      \"prov:entity\": \"aggregatedByRegions\",\n",
      "      \"prov:agent\": \"derek\"\n",
      "    },\n",
      "    \"_:id13\": {\n",
      "      \"prov:entity\": \"nationalRegionsList\",\n",
      "      \"prov:agent\": \"civil_action_group\"\n",
      "    }\n",
      "  },\n",
      "  \"wasAssociatedWith\": {\n",
      "    \"_:id2\": {\n",
      "      \"prov:activity\": \"illustrationActivity\",\n",
      "      \"prov:agent\": \"derek\"\n",
      "    },\n",
      "    \"_:id4\": {\n",
      "      \"prov:activity\": \"aggregationActivity\",\n",
      "      \"prov:agent\": \"derek\"\n",
      "    }\n",
      "  },\n",
      "  \"wasDerivedFrom\": {\n",
      "    \"_:id5\": {\n",
      "      \"prov:generatedEntity\": \"bar_chart\",\n",
      "      \"prov:usedEntity\": \"aggregatedByRegions\"\n",
      "    }\n",
      "  },\n",
      "  \"used\": {\n",
      "    \"_:id7\": {\n",
      "      \"prov:activity\": \"aggregationActivity\",\n",
      "      \"prov:entity\": \"nationalRegionsList\"\n",
      "    },\n",
      "    \"_:id11\": {\n",
      "      \"prov:activity\": \"illustrationActivity\",\n",
      "      \"prov:entity\": \"aggregatedByRegions\"\n",
      "    },\n",
      "    \"_:id14\": {\n",
      "      \"prov:activity\": \"aggregationActivity\",\n",
      "      \"prov:entity\": \"crimeData\"\n",
      "    }\n",
      "  },\n",
      "  \"actedOnBehalfOf\": {\n",
      "    \"_:id8\": {\n",
      "      \"prov:delegate\": \"derek\",\n",
      "      \"prov:responsible\": \"natonal_newspaper_inc\"\n",
      "    }\n",
      "  },\n",
      "  \"wasInformedBy\": {\n",
      "    \"_:id9\": {\n",
      "      \"prov:informed\": \"illustrationActivity\",\n",
      "      \"prov:informant\": \"aggregationActivity\"\n",
      "    }\n",
      "  },\n",
      "  \"wasGeneratedBy\": {\n",
      "    \"_:id10\": {\n",
      "      \"prov:entity\": \"bar_chart\",\n",
      "      \"prov:activity\": \"illustrationActivity\"\n",
      "    },\n",
      "    \"_:id12\": {\n",
      "      \"prov:entity\": \"aggregatedByRegions\",\n",
      "      \"prov:activity\": \"aggregationActivity\"\n",
      "    }\n",
      "  },\n",
      "  \"entity\": {\n",
      "    \"bar_chart\": {},\n",
      "    \"aggregatedByRegions\": {},\n",
      "    \"crimeData\": {},\n",
      "    \"nationalRegionsList\": {}\n",
      "  },\n",
      "  \"agent\": {\n",
      "    \"derek\": {\n",
      "      \"prov:type\": {\n",
      "        \"$\": \"foaf:Person\",\n",
      "        \"type\": \"prov:QUALIFIED_NAME\"\n",
      "      },\n",
      "      \"foaf:givenName\": \"Derek\",\n",
      "      \"foaf:mbox\": {\n",
      "        \"$\": \"ns1:example.org\",\n",
      "        \"type\": \"prov:QUALIFIED_NAME\"\n",
      "      }\n",
      "    },\n",
      "    \"national_newspaper_inc\": {\n",
      "      \"prov:type\": {\n",
      "        \"$\": \"foaf:Organization\",\n",
      "        \"type\": \"prov:QUALIFIED_NAME\"\n",
      "      },\n",
      "      \"foaf:name\": \"National Newspaper, Inc.\"\n",
      "    },\n",
      "    \"government\": {\n",
      "      \"prov:type\": {\n",
      "        \"$\": \"foaf:Organization\",\n",
      "        \"type\": \"prov:QUALIFIED_NAME\"\n",
      "      }\n",
      "    },\n",
      "    \"civil_action_group\": {\n",
      "      \"prov:type\": {\n",
      "        \"$\": \"foaf:Organization\",\n",
      "        \"type\": \"prov:QUALIFIED_NAME\"\n",
      "      }\n",
      "    }\n",
      "  },\n",
      "  \"activity\": {\n",
      "    \"illustrationActivity\": {},\n",
      "    \"aggregationActivity\": {\n",
      "      \"prov:startTime\": \"2011-07-14T01:01:01+00:00\",\n",
      "      \"prov:endTime\": \"2011-07-14T02:02:02+00:00\"\n",
      "    }\n",
      "  }\n",
      "}\n"
     ]
    }
   ],
   "source": [
    "print(d1.serialize(indent=2))"
   ]
  },
  {
   "cell_type": "markdown",
   "metadata": {},
   "source": [
    "You can also serialize the document directly to a file by providing a filename (below) or a Python File object."
   ]
  },
  {
   "cell_type": "code",
   "execution_count": 11,
   "metadata": {},
   "outputs": [],
   "source": [
    "#d1.serialize(basename + '.json')"
   ]
  },
  {
   "cell_type": "code",
   "execution_count": null,
   "metadata": {},
   "outputs": [],
   "source": []
  }
 ],
 "metadata": {
  "kernelspec": {
   "display_name": "Python 3 (ipykernel)",
   "language": "python",
   "name": "python3"
  },
  "language_info": {
   "codemirror_mode": {
    "name": "ipython",
    "version": 3
   },
   "file_extension": ".py",
   "mimetype": "text/x-python",
   "name": "python",
   "nbconvert_exporter": "python",
   "pygments_lexer": "ipython3",
   "version": "3.9.7"
  }
 },
 "nbformat": 4,
 "nbformat_minor": 2
}
